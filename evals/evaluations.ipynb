{
 "cells": [
  {
   "cell_type": "code",
   "execution_count": 1,
   "id": "7d70cd07-77e3-4eec-b106-6de8ae97ed15",
   "metadata": {},
   "outputs": [],
   "source": [
    "import os\n",
    "os.environ['LOGS_DIRECTORY'] = '../eval_logs'\n",
    "\n",
    "import sys\n",
    "sys.path.insert(0, '..')"
   ]
  },
  {
   "cell_type": "code",
   "execution_count": 2,
   "id": "0f2866c9-3f74-44da-a0b0-1cadc6a2d22f",
   "metadata": {},
   "outputs": [],
   "source": [
    "import json\n",
    "import pandas as pd\n",
    "\n",
    "from tqdm.auto import tqdm\n",
    "from pydantic import BaseModel\n",
    "from pydantic_ai import Agent\n",
    "\n",
    "from logs import LOG_DIR"
   ]
  },
  {
   "cell_type": "code",
   "execution_count": 3,
   "id": "fdcac019-a799-411f-9f7a-7db2c8c885da",
   "metadata": {},
   "outputs": [
    {
     "data": {
      "text/plain": [
       "WindowsPath('C:/Users/alexe/git/aihero/code/eval/../eval_logs')"
      ]
     },
     "execution_count": 3,
     "metadata": {},
     "output_type": "execute_result"
    }
   ],
   "source": [
    "LOG_DIR.absolute()"
   ]
  },
  {
   "cell_type": "code",
   "execution_count": 4,
   "id": "5b82a622-16a5-4f7b-b93d-cfe2fc22ecee",
   "metadata": {
    "_sphinx_cell_id": "d9fe0e7f-b2a0-41c1-a2dc-25788670dba7"
   },
   "outputs": [],
   "source": [
    "\n",
    "\n"
   ]
  },
  {
   "cell_type": "code",
   "execution_count": 5,
   "id": "f2f331d4-bd09-4a72-b487-632cf1cd8472",
   "metadata": {
    "_sphinx_cell_id": "774b2272-a1b8-4ef3-bb07-b4791e72bf7c"
   },
   "outputs": [],
   "source": []
  },
  {
   "cell_type": "code",
   "execution_count": 6,
   "id": "dc87ceac-a655-4167-bbe2-d27711a4eeed",
   "metadata": {
    "_sphinx_cell_id": "975a9704-f83d-40a4-82e2-bbf6515686d0"
   },
   "outputs": [],
   "source": [
    "async def evaluate_log_record(eval_agent, log_record):\n",
    "    messages = log_record['messages']\n",
    "    \n",
    "    instructions = log_record['system_prompt']\n",
    "    question = messages[0]['parts'][0]['content']\n",
    "    answer = messages[-1]['parts'][0]['content']\n",
    "    \n",
    "    log_simplified = simplify_log_messages(messages)\n",
    "    log = json.dumps(log_simplified)\n",
    "\n",
    "    user_prompt = user_prompt_format.format(\n",
    "        instructions=instructions,\n",
    "        question=question,\n",
    "        answer=answer,\n",
    "        log=log\n",
    "    )\n",
    "\n",
    "    result = await eval_agent.run(user_prompt, output_type=EvaluationChecklist)\n",
    "    return result.output "
   ]
  },
  {
   "cell_type": "code",
   "execution_count": 7,
   "id": "9c11bb52-af16-4a77-b0bc-debe4183cb52",
   "metadata": {
    "_sphinx_cell_id": "d066b5ee-5c62-4688-b0b9-fc62137d6e35"
   },
   "outputs": [],
   "source": []
  },
  {
   "cell_type": "code",
   "execution_count": 8,
   "id": "7b26fdb9-e66b-4f95-92cf-c7b3ed805fe7",
   "metadata": {},
   "outputs": [
    {
     "data": {
      "text/plain": [
       "10"
      ]
     },
     "execution_count": 8,
     "metadata": {},
     "output_type": "execute_result"
    }
   ],
   "source": [
    "len(eval_set)"
   ]
  },
  {
   "cell_type": "code",
   "execution_count": 12,
   "id": "c5ec47cd-6adb-4cbd-998b-03f3ba3a4ac7",
   "metadata": {
    "_sphinx_cell_id": "2af7fac3-1872-42dd-8a7e-e599e26c3bcc"
   },
   "outputs": [
    {
     "data": {
      "application/vnd.jupyter.widget-view+json": {
       "model_id": "4aa5d469506747cab49b06e49397d922",
       "version_major": 2,
       "version_minor": 0
      },
      "text/plain": [
       "  0%|          | 0/10 [00:00<?, ?it/s]"
      ]
     },
     "metadata": {},
     "output_type": "display_data"
    }
   ],
   "source": [
    "eval_results = []\n",
    "\n",
    "for log_record in tqdm(eval_set):\n",
    "    eval_result = await evaluate_log_record(eval_agent, log_record)\n",
    "    eval_results.append((log_record, eval_result))"
   ]
  },
  {
   "cell_type": "code",
   "execution_count": 13,
   "id": "63fbca15-d7b0-41f8-9f36-969d39250789",
   "metadata": {
    "_sphinx_cell_id": "af737e3b-7f91-49d7-b729-2d2a368f84c5"
   },
   "outputs": [],
   "source": [
    "rows = []\n",
    "\n",
    "for log_record, eval_result in eval_results:\n",
    "    messages = log_record['messages']\n",
    "\n",
    "    row = {\n",
    "        'file': log_record['log_file'].name,\n",
    "        'question': messages[0]['parts'][0]['content'],\n",
    "        'answer': messages[-1]['parts'][0]['content'],\n",
    "    }\n",
    "\n",
    "    checks = {c.check_name: c.check_pass for c in eval_result.checklist}\n",
    "    row.update(checks)\n",
    "\n",
    "    rows.append(row)"
   ]
  },
  {
   "cell_type": "code",
   "execution_count": 15,
   "id": "455a6b3e-3f72-475c-9fcf-7b9a78dcf3e3",
   "metadata": {
    "_sphinx_cell_id": "c34191c9-acb9-4523-9818-30d99e0d5da7"
   },
   "outputs": [
    {
     "data": {
      "text/plain": [
       "instructions_follow    100.0\n",
       "instructions_avoid     100.0\n",
       "answer_relevant        100.0\n",
       "answer_clear           100.0\n",
       "answer_citations       100.0\n",
       "completeness            70.0\n",
       "tool_call_search       100.0\n",
       "dtype: float64"
      ]
     },
     "execution_count": 15,
     "metadata": {},
     "output_type": "execute_result"
    }
   ],
   "source": [
    "df_evals = pd.DataFrame(rows)\n",
    "df_evals.mean(numeric_only=True) * 100"
   ]
  },
  {
   "cell_type": "code",
   "execution_count": null,
   "id": "a2143361-b558-4da8-bb3d-e9c34562a920",
   "metadata": {
    "_sphinx_cell_id": "007e7c9b-0475-479b-a9ee-6b9556e8913c"
   },
   "outputs": [],
   "source": []
  },
  {
   "cell_type": "code",
   "execution_count": null,
   "id": "f6fce7c6-fdeb-4e16-980f-5f0a3e6bed9b",
   "metadata": {
    "_sphinx_cell_id": "f9323841-960a-4f81-bf29-abb47e17e9ab"
   },
   "outputs": [],
   "source": []
  }
 ],
 "metadata": {
  "kernelspec": {
   "display_name": "Python 3 (ipykernel)",
   "language": "python",
   "name": "python3"
  },
  "language_info": {
   "codemirror_mode": {
    "name": "ipython",
    "version": 3
   },
   "file_extension": ".py",
   "mimetype": "text/x-python",
   "name": "python",
   "nbconvert_exporter": "python",
   "pygments_lexer": "ipython3",
   "version": "3.13.5"
  }
 },
 "nbformat": 4,
 "nbformat_minor": 5
}
